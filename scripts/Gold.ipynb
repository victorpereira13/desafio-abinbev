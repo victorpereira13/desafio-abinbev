{
 "cells": [
  {
   "cell_type": "code",
   "execution_count": 0,
   "metadata": {
    "application/vnd.databricks.v1+cell": {
     "cellMetadata": {
      "byteLimit": 2048000,
      "rowLimit": 10000
     },
     "inputWidgets": {},
     "nuid": "82392c44-2b29-4dc7-bcf4-3d015b8afbe5",
     "showTitle": false,
     "title": ""
    }
   },
   "outputs": [],
   "source": [
    "from datetime import datetime\n",
    "from azure.storage.blob import BlobServiceClient, BlobClient, ContainerClient\n",
    "from pyspark.sql import SparkSession\n",
    "\n",
    "# Initialize Spark session\n",
    "spark = SparkSession.builder.appName(\"Gold\").getOrCreate()\n",
    "\n",
    "# Init variables\n",
    "today = datetime.today().strftime('%Y%m%d')\n",
    "storage_account_name = \"desafioabinbev\"\n",
    "container_name_silver = \"abinbev-silver\"\n",
    "container_name_gold = \"abinbev-gold\"\n",
    "account_key = \"RApm9QtERW4cJlgK25W9sus968RiyP0Ua2CkLWjKn8nWA/H0pR1l+zTn8K03MtlcTftbrxp/5VyX+AStprx+jw==\"\n",
    "spark.conf.set(f\"fs.azure.account.key.{storage_account_name}.blob.core.windows.net\", account_key)\n"
   ]
  },
  {
   "cell_type": "code",
   "execution_count": 0,
   "metadata": {
    "application/vnd.databricks.v1+cell": {
     "cellMetadata": {},
     "inputWidgets": {},
     "nuid": "6a5e5c6e-04ba-451a-a970-6be8e005e6f4",
     "showTitle": false,
     "title": ""
    }
   },
   "outputs": [],
   "source": [
    "# Unwanted files spark\n",
    "\n",
    "spark.conf.set(\"spark.sql.sources.commitProtocolClass\", \"org.apache.spark.sql.execution.datasources.SQLHadoopMapReduceCommitProtocol\")\n",
    "spark.conf.set(\"parquet.enable.summary-metadata\", \"false\")\n",
    "spark.conf.set(\"mapreduce.fileoutputcommitter.marksuccessfuljobs\", \"false\")"
   ]
  },
  {
   "cell_type": "code",
   "execution_count": 0,
   "metadata": {
    "application/vnd.databricks.v1+cell": {
     "cellMetadata": {
      "byteLimit": 2048000,
      "rowLimit": 10000
     },
     "inputWidgets": {},
     "nuid": "cc7463e3-5e1a-483d-8569-f523dc5d3301",
     "showTitle": false,
     "title": ""
    }
   },
   "outputs": [],
   "source": [
    "from datetime import datetime\n",
    "from pyspark.sql import DataFrame\n",
    "\n",
    "def build_file_path(storage_account_name, container_name, blob_name):\n",
    "    return f\"wasbs://{container_name}@{storage_account_name}.blob.core.windows.net/{blob_name}\"\n",
    "\n",
    "def save_aggregated_df(aggregated_df, table_name):\n",
    "    try:\n",
    "        aggregated_df.write \\\n",
    "            .format(\"delta\") \\\n",
    "            .mode(\"overwrite\") \\\n",
    "            .saveAsTable(table_name)\n",
    "        print(\"Data successfully saved to the specified schema.\")\n",
    "    except Exception as e:\n",
    "        print(f\"Error saving DataFrame to table: {e}\")"
   ]
  },
  {
   "cell_type": "code",
   "execution_count": 0,
   "metadata": {
    "application/vnd.databricks.v1+cell": {
     "cellMetadata": {
      "byteLimit": 2048000,
      "rowLimit": 10000
     },
     "inputWidgets": {},
     "nuid": "21f8710d-8705-4121-8ccb-ba38adc0e2bf",
     "showTitle": false,
     "title": ""
    }
   },
   "outputs": [],
   "source": [
    "from pyspark.sql.utils import AnalysisException\n",
    "\n",
    "def read_parquet_to_df(file_path, base_path):\n",
    "    try:\n",
    "        df = spark.read.option(\"basePath\", base_path).parquet(file_path)\n",
    "        if df is None or df.rdd.isEmpty():\n",
    "            raise ValueError(\"DataFrame is empty\")\n",
    "        return df\n",
    "    except AnalysisException as e:\n",
    "        print(f\"Error reading Parquet file: {e}\")\n",
    "        return None\n",
    "    except ValueError as e:\n",
    "        print(f\"Data quality check failed: {e}\")\n",
    "        return None\n"
   ]
  },
  {
   "cell_type": "code",
   "execution_count": 0,
   "metadata": {
    "application/vnd.databricks.v1+cell": {
     "cellMetadata": {
      "byteLimit": 2048000,
      "rowLimit": 10000
     },
     "inputWidgets": {},
     "nuid": "afb3f503-79c2-4d93-ba25-ff7ea3ea23bd",
     "showTitle": false,
     "title": ""
    }
   },
   "outputs": [],
   "source": [
    "def aggregate_breweries(df):\n",
    "    aggregated_df = df.groupBy(\"country\", \"state\", \"brewery_type\").count()\n",
    "    aggregated_df = aggregated_df.withColumnRenamed(\"count\", \"quantity\")\n",
    "    return aggregated_df"
   ]
  },
  {
   "cell_type": "code",
   "execution_count": 0,
   "metadata": {
    "application/vnd.databricks.v1+cell": {
     "cellMetadata": {
      "byteLimit": 2048000,
      "rowLimit": 10000
     },
     "inputWidgets": {},
     "nuid": "3c1d6cf2-9103-4365-846e-38f1a6610823",
     "showTitle": false,
     "title": ""
    }
   },
   "outputs": [],
   "source": [
    "def save_aggregated_df(aggregated_df, table_name):\n",
    "    try:\n",
    "        aggregated_df.write \\\n",
    "            .format(\"delta\") \\\n",
    "            .mode(\"overwrite\") \\\n",
    "            .saveAsTable(table_name)\n",
    "        print(f\"Data successfully saved to {table_name}\")\n",
    "    except Exception as e:\n",
    "        print(f\"Error saving dataframe to table: {e}\")"
   ]
  },
  {
   "cell_type": "code",
   "execution_count": 0,
   "metadata": {
    "application/vnd.databricks.v1+cell": {
     "cellMetadata": {
      "byteLimit": 2048000,
      "rowLimit": 10000
     },
     "inputWidgets": {},
     "nuid": "e14ce6cc-c9a4-4c84-8ecf-b764ad53640a",
     "showTitle": false,
     "title": ""
    }
   },
   "outputs": [],
   "source": [
    "from pyspark.sql.functions import col\n",
    "def validate_data(df):\n",
    "    try:\n",
    "        # Check if required columns are not null\n",
    "        if df.filter(col(\"id\").isNull()).count() > 0:\n",
    "            raise ValueError(\"Data quality check failed: null values found in the ID column\")\n",
    "        \n",
    "        # Additional data quality checks can be added here\n",
    "        return True\n",
    "    except ValueError as e:\n",
    "        print(e)\n",
    "        return False"
   ]
  },
  {
   "cell_type": "code",
   "execution_count": 0,
   "metadata": {
    "application/vnd.databricks.v1+cell": {
     "cellMetadata": {
      "byteLimit": 2048000,
      "rowLimit": 10000
     },
     "inputWidgets": {},
     "nuid": "a7077b02-9c86-4e19-b28c-3010cd83f1ca",
     "showTitle": false,
     "title": ""
    }
   },
   "outputs": [],
   "source": [
    "\n",
    "today = datetime.today().strftime('%Y%m%d')\n",
    "file_path_silver = build_file_path(storage_account_name, container_name_silver, f\"{today}\")\n",
    "\n",
    "\n",
    "# Read Parquet file into DataFrame\n",
    "df = read_parquet_to_df(file_path_silver, base_path=f\"wasbs://{container_name_silver}@{storage_account_name}.blob.core.windows.net/\")\n"
   ]
  },
  {
   "cell_type": "code",
   "execution_count": 0,
   "metadata": {
    "application/vnd.databricks.v1+cell": {
     "cellMetadata": {
      "byteLimit": 2048000,
      "rowLimit": 10000
     },
     "inputWidgets": {},
     "nuid": "11dc518e-99b3-4ffb-9ab6-9c83c42e70c7",
     "showTitle": false,
     "title": ""
    }
   },
   "outputs": [],
   "source": [
    "output_path_gold = build_file_path(storage_account_name, container_name_gold, f\"{today}\")\n",
    "\n",
    "def write_df_to_container(df, output_path):\n",
    "    try:\n",
    "        df.write.mode(\"overwrite\").format(\"delta\").parquet(output_path)\n",
    "        print(\"Data successfully written to the container in parquet format.\")\n",
    "    except Exception as e:\n",
    "        print(f\"Error writing dataframe to the container {e}\")"
   ]
  },
  {
   "cell_type": "code",
   "execution_count": 0,
   "metadata": {
    "application/vnd.databricks.v1+cell": {
     "cellMetadata": {
      "byteLimit": 2048000,
      "rowLimit": 10000
     },
     "inputWidgets": {},
     "nuid": "41f62e7e-cf7e-4a79-8ad5-3571b68f0fc3",
     "showTitle": false,
     "title": ""
    }
   },
   "outputs": [
    {
     "output_type": "stream",
     "name": "stdout",
     "output_type": "stream",
     "text": [
      "Error saving dataframe to table: [SCHEMA_NOT_FOUND] The schema `desafio_abinbev.view` cannot be found. Verify the spelling and correctness of the schema and catalog.\nIf you did not qualify the name with a catalog, verify the current_schema() output, or qualify the name with the correct catalog.\nTo tolerate the error on drop use DROP SCHEMA IF EXISTS. SQLSTATE: 42704\n"
     ]
    }
   ],
   "source": [
    "aggregated_df = aggregate_breweries(df)\n",
    "\n",
    "save_aggregated_df(aggregated_df, \"desafio_abinbev.view.brewery_aggregated\")"
   ]
  },
  {
   "cell_type": "code",
   "execution_count": 0,
   "metadata": {
    "application/vnd.databricks.v1+cell": {
     "cellMetadata": {
      "byteLimit": 2048000,
      "rowLimit": 10000
     },
     "inputWidgets": {},
     "nuid": "51766069-4638-41c5-9c5c-0547b5c7354a",
     "showTitle": false,
     "title": ""
    }
   },
   "outputs": [
    {
     "output_type": "stream",
     "name": "stdout",
     "output_type": "stream",
     "text": [
      "Data successfully written to the container in parquet format.\n"
     ]
    }
   ],
   "source": [
    "write_df_to_container(aggregated_df, output_path_gold)"
   ]
  },
  {
   "cell_type": "code",
   "execution_count": 0,
   "metadata": {
    "application/vnd.databricks.v1+cell": {
     "cellMetadata": {
      "byteLimit": 2048000,
      "rowLimit": 10000
     },
     "inputWidgets": {},
     "nuid": "617a2a25-eac7-479f-a9a6-73a1361338d6",
     "showTitle": false,
     "title": ""
    }
   },
   "outputs": [
    {
     "output_type": "stream",
     "name": "stdout",
     "output_type": "stream",
     "text": [
      "Number of records in brewery_aggregated: 36\n"
     ]
    }
   ],
   "source": [
    "print(\"Number of records in brewery_aggregated:\", aggregated_df.count())\n",
    "\n",
    "\n",
    "# display(aggregated_df)\n"
   ]
  }
 ],
 "metadata": {
  "application/vnd.databricks.v1+notebook": {
   "dashboards": [],
   "environmentMetadata": null,
   "language": "python",
   "notebookMetadata": {
    "pythonIndentUnit": 4
   },
   "notebookName": "Gold",
   "widgets": {}
  }
 },
 "nbformat": 4,
 "nbformat_minor": 0
}
