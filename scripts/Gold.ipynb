{
 "cells": [
  {
   "cell_type": "code",
   "execution_count": 0,
   "metadata": {
    "application/vnd.databricks.v1+cell": {
     "cellMetadata": {
      "byteLimit": 2048000,
      "rowLimit": 10000
     },
     "inputWidgets": {},
     "nuid": "82392c44-2b29-4dc7-bcf4-3d015b8afbe5",
     "showTitle": false,
     "title": ""
    }
   },
   "outputs": [],
   "source": [
    "from datetime import datetime\n",
    "from azure.storage.blob import BlobServiceClient, BlobClient, ContainerClient\n",
    "from pyspark.sql import SparkSession\n",
    "\n",
    "# Initialize Spark session\n",
    "spark = SparkSession.builder.appName(\"Gold\").getOrCreate()\n",
    "\n",
    "# Init variables\n",
    "today = datetime.today().strftime('%Y%m%d')\n",
    "storage_account_name = \"desafioabinbev\"\n",
    "container_name_silver = \"abinbev-silver\"\n",
    "container_name_gold = \"abinbev-gold\"\n",
    "account_key = \"RApm9QtERW4cJlgK25W9sus968RiyP0Ua2CkLWjKn8nWA/H0pR1l+zTn8K03MtlcTftbrxp/5VyX+AStprx+jw==\"\n",
    "spark.conf.set(f\"fs.azure.account.key.{storage_account_name}.blob.core.windows.net\", account_key)\n"
   ]
  },
  {
   "cell_type": "code",
   "execution_count": 0,
   "metadata": {
    "application/vnd.databricks.v1+cell": {
     "cellMetadata": {
      "byteLimit": 2048000,
      "rowLimit": 10000
     },
     "inputWidgets": {},
     "nuid": "6a5e5c6e-04ba-451a-a970-6be8e005e6f4",
     "showTitle": false,
     "title": ""
    }
   },
   "outputs": [],
   "source": [
    "# Unwanted files spark\n",
    "spark.conf.set(\"spark.sql.sources.commitProtocolClass\", \"org.apache.spark.sql.execution.datasources.SQLHadoopMapReduceCommitProtocol\")\n",
    "spark.conf.set(\"parquet.enable.summary-metadata\", \"false\")\n",
    "spark.conf.set(\"mapreduce.fileoutputcommitter.marksuccessfuljobs\", \"false\")"
   ]
  },
  {
   "cell_type": "code",
   "execution_count": 0,
   "metadata": {
    "application/vnd.databricks.v1+cell": {
     "cellMetadata": {
      "byteLimit": 2048000,
      "rowLimit": 10000
     },
     "inputWidgets": {},
     "nuid": "cc7463e3-5e1a-483d-8569-f523dc5d3301",
     "showTitle": false,
     "title": ""
    }
   },
   "outputs": [],
   "source": [
    "from datetime import datetime\n",
    "from pyspark.sql import DataFrame\n",
    "\n",
    "def build_file_path(storage_account_name, container_name, blob_name):\n",
    "    return f\"wasbs://{container_name}@{storage_account_name}.blob.core.windows.net/{blob_name}\"\n"
   ]
  },
  {
   "cell_type": "code",
   "execution_count": 0,
   "metadata": {
    "application/vnd.databricks.v1+cell": {
     "cellMetadata": {
      "byteLimit": 2048000,
      "rowLimit": 10000
     },
     "inputWidgets": {},
     "nuid": "21f8710d-8705-4121-8ccb-ba38adc0e2bf",
     "showTitle": false,
     "title": ""
    }
   },
   "outputs": [],
   "source": [
    "from pyspark.sql.utils import AnalysisException\n",
    "\n",
    "def read_parquet_to_df(file_path, base_path):\n",
    "    try:\n",
    "        df = spark.read.option(\"basePath\", base_path).parquet(file_path)\n",
    "        if df is None or df.rdd.isEmpty():\n",
    "            raise ValueError(\"DataFrame is empty\")\n",
    "        return df\n",
    "    except AnalysisException as e:\n",
    "        print(f\"Error reading Parquet file: {e}\")\n",
    "        return None\n",
    "    except ValueError as e:\n",
    "        print(f\"Data quality check failed: {e}\")\n",
    "        return None\n"
   ]
  },
  {
   "cell_type": "code",
   "execution_count": 0,
   "metadata": {
    "application/vnd.databricks.v1+cell": {
     "cellMetadata": {
      "byteLimit": 2048000,
      "rowLimit": 10000
     },
     "inputWidgets": {},
     "nuid": "afb3f503-79c2-4d93-ba25-ff7ea3ea23bd",
     "showTitle": false,
     "title": ""
    }
   },
   "outputs": [],
   "source": [
    "def aggregate_breweries(df):\n",
    "    aggregated_df = df.groupBy(\"country\", \"state\", \"brewery_type\").count()\n",
    "    aggregated_df = aggregated_df.withColumnRenamed(\"count\", \"quantity\")\n",
    "    return aggregated_df"
   ]
  },
  {
   "cell_type": "code",
   "execution_count": 0,
   "metadata": {
    "application/vnd.databricks.v1+cell": {
     "cellMetadata": {
      "byteLimit": 2048000,
      "rowLimit": 10000
     },
     "inputWidgets": {},
     "nuid": "3c1d6cf2-9103-4365-846e-38f1a6610823",
     "showTitle": false,
     "title": ""
    }
   },
   "outputs": [],
   "source": [
    "def insert_aggregated_df(aggregated_df, table_name):\n",
    "    try:\n",
    "        aggregated_df.write \\\n",
    "            .format(\"delta\") \\\n",
    "            .mode(\"overwrite\") \\\n",
    "            .saveAsTable(table_name)\n",
    "        print(f\"Data successfully saved to {table_name}\")\n",
    "    except Exception as e:\n",
    "        print(f\"Error saving dataframe to table: {e}\")"
   ]
  },
  {
   "cell_type": "code",
   "execution_count": 0,
   "metadata": {
    "application/vnd.databricks.v1+cell": {
     "cellMetadata": {
      "byteLimit": 2048000,
      "rowLimit": 10000
     },
     "inputWidgets": {},
     "nuid": "e14ce6cc-c9a4-4c84-8ecf-b764ad53640a",
     "showTitle": false,
     "title": ""
    }
   },
   "outputs": [],
   "source": [
    "from pyspark.sql.functions import col\n",
    "def validate_data(df):\n",
    "    try:\n",
    "        if df.filter(col(\"id\").isNull()).count() > 0:\n",
    "            raise ValueError(\"Data quality check failed: null values found in the ID column\")\n",
    "        return True\n",
    "    except ValueError as e:\n",
    "        print(e)\n",
    "        return False"
   ]
  },
  {
   "cell_type": "code",
   "execution_count": 0,
   "metadata": {
    "application/vnd.databricks.v1+cell": {
     "cellMetadata": {
      "byteLimit": 2048000,
      "rowLimit": 10000
     },
     "inputWidgets": {},
     "nuid": "a7077b02-9c86-4e19-b28c-3010cd83f1ca",
     "showTitle": false,
     "title": ""
    }
   },
   "outputs": [],
   "source": [
    "\n",
    "today = datetime.today().strftime('%Y%m%d')\n",
    "file_path_silver = build_file_path(storage_account_name, container_name_silver, f\"{today}\")\n",
    "\n",
    "df = read_parquet_to_df(file_path_silver, base_path=f\"wasbs://{container_name_silver}@{storage_account_name}.blob.core.windows.net/\")\n"
   ]
  },
  {
   "cell_type": "code",
   "execution_count": 0,
   "metadata": {
    "application/vnd.databricks.v1+cell": {
     "cellMetadata": {
      "byteLimit": 2048000,
      "rowLimit": 10000
     },
     "inputWidgets": {},
     "nuid": "11dc518e-99b3-4ffb-9ab6-9c83c42e70c7",
     "showTitle": false,
     "title": ""
    }
   },
   "outputs": [],
   "source": [
    "output_path_gold = build_file_path(storage_account_name, container_name_gold, f\"{today}\")\n",
    "\n",
    "def write_df_to_container(df, output_path):\n",
    "    try:\n",
    "        df.write.mode(\"overwrite\").format(\"delta\").parquet(output_path)\n",
    "        print(\"Data successfully written to the container in parquet format.\")\n",
    "    except Exception as e:\n",
    "        print(f\"Error writing dataframe to the container {e}\")"
   ]
  },
  {
   "cell_type": "code",
   "execution_count": 0,
   "metadata": {
    "application/vnd.databricks.v1+cell": {
     "cellMetadata": {
      "byteLimit": 2048000,
      "rowLimit": 10000
     },
     "inputWidgets": {},
     "nuid": "41f62e7e-cf7e-4a79-8ad5-3571b68f0fc3",
     "showTitle": false,
     "title": ""
    }
   },
   "outputs": [
    {
     "output_type": "stream",
     "name": "stdout",
     "output_type": "stream",
     "text": [
      "Data successfully saved to desafio_abinbev.gold.brewery_aggregated\n"
     ]
    }
   ],
   "source": [
    "aggregated_df = aggregate_breweries(df)\n",
    "table_name = \"desafio_abinbev.gold.brewery_aggregated\"\n",
    "\n",
    "insert_aggregated_df(aggregated_df, table_name)"
   ]
  },
  {
   "cell_type": "code",
   "execution_count": 0,
   "metadata": {
    "application/vnd.databricks.v1+cell": {
     "cellMetadata": {
      "byteLimit": 2048000,
      "rowLimit": 10000
     },
     "inputWidgets": {},
     "nuid": "51766069-4638-41c5-9c5c-0547b5c7354a",
     "showTitle": false,
     "title": ""
    }
   },
   "outputs": [
    {
     "output_type": "stream",
     "name": "stdout",
     "output_type": "stream",
     "text": [
      "Data successfully written to the container in parquet format.\n"
     ]
    }
   ],
   "source": [
    "write_df_to_container(aggregated_df, output_path_gold)"
   ]
  },
  {
   "cell_type": "code",
   "execution_count": 0,
   "metadata": {
    "application/vnd.databricks.v1+cell": {
     "cellMetadata": {
      "byteLimit": 2048000,
      "rowLimit": 10000
     },
     "inputWidgets": {},
     "nuid": "617a2a25-eac7-479f-a9a6-73a1361338d6",
     "showTitle": false,
     "title": ""
    }
   },
   "outputs": [
    {
     "output_type": "stream",
     "name": "stdout",
     "output_type": "stream",
     "text": [
      "Number of records in brewery_aggregated: 26\n"
     ]
    },
    {
     "output_type": "display_data",
     "data": {
      "text/html": [
       "<style scoped>\n",
       "  .table-result-container {\n",
       "    max-height: 300px;\n",
       "    overflow: auto;\n",
       "  }\n",
       "  table, th, td {\n",
       "    border: 1px solid black;\n",
       "    border-collapse: collapse;\n",
       "  }\n",
       "  th, td {\n",
       "    padding: 5px;\n",
       "  }\n",
       "  th {\n",
       "    text-align: left;\n",
       "  }\n",
       "</style><div class='table-result-container'><table class='table-result'><thead style='background-color: white'><tr><th>country</th><th>state</th><th>brewery_type</th><th>quantity</th></tr></thead><tbody><tr><td>United States</td><td>North Carolina</td><td>brewpub</td><td>1</td></tr><tr><td>United States</td><td>Wisconsin</td><td>micro</td><td>2</td></tr><tr><td>United States</td><td>Illinois</td><td>micro</td><td>1</td></tr><tr><td>United States</td><td>Massachusetts</td><td>micro</td><td>1</td></tr><tr><td>United States</td><td>Oregon</td><td>brewpub</td><td>2</td></tr><tr><td>United States</td><td>North Carolina</td><td>micro</td><td>1</td></tr><tr><td>United States</td><td>Indiana</td><td>micro</td><td>3</td></tr><tr><td>United States</td><td>Oregon</td><td>large</td><td>4</td></tr><tr><td>United States</td><td>South Carolina</td><td>brewpub</td><td>1</td></tr><tr><td>United States</td><td>Idaho</td><td>large</td><td>1</td></tr><tr><td>United States</td><td>Texas</td><td>micro</td><td>2</td></tr><tr><td>United States</td><td>Minnesota</td><td>micro</td><td>3</td></tr><tr><td>United States</td><td>New York</td><td>brewpub</td><td>2</td></tr><tr><td>United States</td><td>Pennsylvania</td><td>micro</td><td>1</td></tr><tr><td>United States</td><td>Washington</td><td>closed</td><td>1</td></tr><tr><td>United States</td><td>Ohio</td><td>micro</td><td>1</td></tr><tr><td>United States</td><td>Nevada</td><td>micro</td><td>1</td></tr><tr><td>United States</td><td>Ohio</td><td>brewpub</td><td>1</td></tr><tr><td>United States</td><td>Oklahoma</td><td>micro</td><td>1</td></tr><tr><td>United States</td><td>Iowa</td><td>micro</td><td>1</td></tr><tr><td>United States</td><td>Washington</td><td>brewpub</td><td>1</td></tr><tr><td>United States</td><td>Vermont</td><td>micro</td><td>1</td></tr><tr><td>United States</td><td>Virginia</td><td>micro</td><td>1</td></tr><tr><td>United States</td><td>Michigan</td><td>micro</td><td>1</td></tr><tr><td>United States</td><td>Maryland</td><td>contract</td><td>1</td></tr><tr><td>United States</td><td>Mississippi</td><td>micro</td><td>1</td></tr></tbody></table></div>"
      ]
     },
     "metadata": {
      "application/vnd.databricks.v1+output": {
       "addedWidgets": {},
       "aggData": [],
       "aggError": "",
       "aggOverflow": false,
       "aggSchema": [],
       "aggSeriesLimitReached": false,
       "aggType": "",
       "arguments": {},
       "columnCustomDisplayInfos": {},
       "data": [
        [
         "United States",
         "North Carolina",
         "brewpub",
         1
        ],
        [
         "United States",
         "Wisconsin",
         "micro",
         2
        ],
        [
         "United States",
         "Illinois",
         "micro",
         1
        ],
        [
         "United States",
         "Massachusetts",
         "micro",
         1
        ],
        [
         "United States",
         "Oregon",
         "brewpub",
         2
        ],
        [
         "United States",
         "North Carolina",
         "micro",
         1
        ],
        [
         "United States",
         "Indiana",
         "micro",
         3
        ],
        [
         "United States",
         "Oregon",
         "large",
         4
        ],
        [
         "United States",
         "South Carolina",
         "brewpub",
         1
        ],
        [
         "United States",
         "Idaho",
         "large",
         1
        ],
        [
         "United States",
         "Texas",
         "micro",
         2
        ],
        [
         "United States",
         "Minnesota",
         "micro",
         3
        ],
        [
         "United States",
         "New York",
         "brewpub",
         2
        ],
        [
         "United States",
         "Pennsylvania",
         "micro",
         1
        ],
        [
         "United States",
         "Washington",
         "closed",
         1
        ],
        [
         "United States",
         "Ohio",
         "micro",
         1
        ],
        [
         "United States",
         "Nevada",
         "micro",
         1
        ],
        [
         "United States",
         "Ohio",
         "brewpub",
         1
        ],
        [
         "United States",
         "Oklahoma",
         "micro",
         1
        ],
        [
         "United States",
         "Iowa",
         "micro",
         1
        ],
        [
         "United States",
         "Washington",
         "brewpub",
         1
        ],
        [
         "United States",
         "Vermont",
         "micro",
         1
        ],
        [
         "United States",
         "Virginia",
         "micro",
         1
        ],
        [
         "United States",
         "Michigan",
         "micro",
         1
        ],
        [
         "United States",
         "Maryland",
         "contract",
         1
        ],
        [
         "United States",
         "Mississippi",
         "micro",
         1
        ]
       ],
       "datasetInfos": [],
       "dbfsResultPath": null,
       "isJsonSchema": true,
       "metadata": {},
       "overflow": false,
       "plotOptions": {
        "customPlotOptions": {},
        "displayType": "table",
        "pivotAggregation": null,
        "pivotColumns": null,
        "xColumns": null,
        "yColumns": null
       },
       "removedWidgets": [],
       "schema": [
        {
         "metadata": "{}",
         "name": "country",
         "type": "\"string\""
        },
        {
         "metadata": "{}",
         "name": "state",
         "type": "\"string\""
        },
        {
         "metadata": "{}",
         "name": "brewery_type",
         "type": "\"string\""
        },
        {
         "metadata": "{}",
         "name": "quantity",
         "type": "\"long\""
        }
       ],
       "type": "table"
      }
     },
     "output_type": "display_data"
    }
   ],
   "source": [
    "print(\"Number of records in brewery_aggregated:\", aggregated_df.count())\n",
    "\n",
    "display(aggregated_df)\n"
   ]
  }
 ],
 "metadata": {
  "application/vnd.databricks.v1+notebook": {
   "dashboards": [],
   "environmentMetadata": null,
   "language": "python",
   "notebookMetadata": {
    "pythonIndentUnit": 4
   },
   "notebookName": "Gold",
   "widgets": {}
  }
 },
 "nbformat": 4,
 "nbformat_minor": 0
}
