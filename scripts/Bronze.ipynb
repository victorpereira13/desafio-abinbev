{
 "cells": [
  {
   "cell_type": "code",
   "execution_count": 0,
   "metadata": {
    "application/vnd.databricks.v1+cell": {
     "cellMetadata": {
      "byteLimit": 2048000,
      "rowLimit": 10000
     },
     "inputWidgets": {},
     "nuid": "05493542-f056-4913-abad-483bb70a4930",
     "showTitle": false,
     "title": ""
    }
   },
   "outputs": [],
   "source": [
    "import requests\n",
    "import json\n",
    "from datetime import datetime\n",
    "from azure.storage.blob import BlobServiceClient, BlobClient, ContainerClient\n",
    "\n",
    "api_url = \"https://api.openbrewerydb.org/v1/breweries\"\n",
    "azure_storage_connection_string = \"DefaultEndpointsProtocol=https;AccountName=desafioabinbev;AccountKey=RApm9QtERW4cJlgK25W9sus968RiyP0Ua2CkLWjKn8nWA/H0pR1l+zTn8K03MtlcTftbrxp/5VyX+AStprx+jw==;EndpointSuffix=core.windows.net\"\n",
    "container_name = \"abinbev-bronze\"\n",
    "\n",
    "def get_today_date():\n",
    "    today = datetime.today()\n",
    "    return today.strftime('%Y%m%d')\n",
    "\n",
    "def get_blob_name():\n",
    "    today = get_today_date()\n",
    "    return f\"{today}/breweries_data.json\""
   ]
  },
  {
   "cell_type": "code",
   "execution_count": 0,
   "metadata": {
    "application/vnd.databricks.v1+cell": {
     "cellMetadata": {
      "byteLimit": 2048000,
      "rowLimit": 10000
     },
     "inputWidgets": {},
     "nuid": "83fa9670-df73-4c84-835b-a1fdea6c198e",
     "showTitle": false,
     "title": ""
    }
   },
   "outputs": [],
   "source": [
    "def fetch_data_from_api(api_url):\n",
    "    try:\n",
    "        response = requests.get(api_url)\n",
    "        response.raise_for_status()\n",
    "        return response.json()\n",
    "    except requests.exceptions.RequestException as e:\n",
    "        print(f\"Error fetching data from API: {e}\")\n",
    "        raise\n",
    "\n",
    "breweries_data = fetch_data_from_api(api_url)"
   ]
  },
  {
   "cell_type": "code",
   "execution_count": 0,
   "metadata": {
    "application/vnd.databricks.v1+cell": {
     "cellMetadata": {
      "byteLimit": 2048000,
      "rowLimit": 10000
     },
     "inputWidgets": {},
     "nuid": "68a2bfe9-8066-459f-9a9b-6fbff22deebd",
     "showTitle": false,
     "title": ""
    }
   },
   "outputs": [],
   "source": [
    "def convert_data_to_json(data):\n",
    "    try:\n",
    "        return json.dumps(data)\n",
    "    except (TypeError, ValueError) as e:\n",
    "        print(f\"Error converting data to JSON: {e}\")\n",
    "        raise\n",
    "\n",
    "breweries_json = convert_data_to_json(breweries_data)"
   ]
  },
  {
   "cell_type": "code",
   "execution_count": 0,
   "metadata": {
    "application/vnd.databricks.v1+cell": {
     "cellMetadata": {
      "byteLimit": 2048000,
      "rowLimit": 10000
     },
     "inputWidgets": {},
     "nuid": "63b38b41-0ad1-4f77-8e18-3a3697f5e24d",
     "showTitle": false,
     "title": ""
    }
   },
   "outputs": [
    {
     "output_type": "stream",
     "name": "stdout",
     "output_type": "stream",
     "text": [
      "Data successfully uploaded to 20240928/breweries_data.json\n"
     ]
    }
   ],
   "source": [
    "def upload_data_to_azure_blob(json_data, connection_string, container_name, blob_name):\n",
    "    try:\n",
    "        blob_service_client = BlobServiceClient.from_connection_string(connection_string)\n",
    "        blob_client = blob_service_client.get_blob_client(container=container_name, blob=blob_name)\n",
    "        blob_client.upload_blob(json_data, overwrite=True)\n",
    "        print(f\"Data successfully uploaded to {blob_name}\")\n",
    "    except Exception as e:\n",
    "        print(f\"Error uploading data to the container: {e}\")\n",
    "        raise\n"
   ]
  },
  {
   "cell_type": "code",
   "execution_count": 0,
   "metadata": {
    "application/vnd.databricks.v1+cell": {
     "cellMetadata": {},
     "inputWidgets": {},
     "nuid": "bcbbb657-69c7-4ab1-a33f-4538c808bb12",
     "showTitle": false,
     "title": ""
    }
   },
   "outputs": [],
   "source": [
    "# Upload data\n",
    "blob_name = get_blob_name()\n",
    "upload_data_to_azure_blob(breweries_json, azure_storage_connection_string, container_name, blob_name)"
   ]
  }
 ],
 "metadata": {
  "application/vnd.databricks.v1+notebook": {
   "dashboards": [],
   "environmentMetadata": null,
   "language": "python",
   "notebookMetadata": {
    "pythonIndentUnit": 4
   },
   "notebookName": "Bronze",
   "widgets": {}
  }
 },
 "nbformat": 4,
 "nbformat_minor": 0
}
